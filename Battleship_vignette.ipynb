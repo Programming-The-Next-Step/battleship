{
 "cells": [
  {
   "cell_type": "markdown",
   "metadata": {},
   "source": [
    "# BATTLESHIP VIGNETTE\n",
    "In this vignette, you will see how to use the Python package battleship. After downloading it, you will be able to play a solo version of battleship.\n",
    "## Download and import\n",
    "We start with downloading this package. Click on the following link to download the package (https://github.com/Programming-The-Next-Step/battleship/tree/battleship_package), and save the files in an accessible folder (e.g. downloads). In your terminal, change the directory to folder which you just saved. Then we open Python and the package like this:"
   ]
  },
  {
   "cell_type": "code",
   "execution_count": null,
   "metadata": {},
   "outputs": [],
   "source": [
    "python3\n",
    "import battleship"
   ]
  },
  {
   "cell_type": "markdown",
   "metadata": {},
   "source": [
    "If this helps you, here is a screenshot of what the terminal looks like for me:"
   ]
  },
  {
   "cell_type": "markdown",
   "metadata": {},
   "source": [
    "![Test](https://docs.google.com/drawings/d/e/2PACX-1vTYuH7yxWnM1gytPu84Cqv_9ksRnhMMRE-0LEtM44HDP9ui0Ot5Nv4ZVK4knsD4Ew4uyHR8GLJcL283/pub?w=463&h=284)"
   ]
  },
  {
   "cell_type": "markdown",
   "metadata": {},
   "source": [
    "Automatically, the instructions for the game will show up, which looks like this:"
   ]
  },
  {
   "cell_type": "markdown",
   "metadata": {},
   "source": [
    "![Test](https://docs.google.com/drawings/d/e/2PACX-1vTONT9zZ-mdURuOfoDPTs-4R51EH67eI-GEzjQ3CgSwq7i_udkH56xZG8uuRyBaDpgoRR0cyX6fGEKM/pub?w=330&h=343)"
   ]
  },
  {
   "cell_type": "markdown",
   "metadata": {},
   "source": [
    "(The text says: This is a solo version of the game battleship. You have to sink the ships in as few shots as possible. Shoot at a field by clicking with your mouse. If it turns green, your shot was successful and if it turns red, was not successful. There are the following ships: 1x aircraft carrier (size 5), 1x battleship 1x cruiser (size 3), 2x destroyer (size 2), and 2x submarine (size 1). Start the game by clicking anywhere.)"
   ]
  },
  {
   "cell_type": "markdown",
   "metadata": {},
   "source": [
    "Below you can see three screenshots, one from the beginning of the game, one in the middle, and one almost at the last ship. In the screenshot in the middle you can also see that every time the player successfully shoots a part of the ship, a small image of a burning ship appears very shortly."
   ]
  },
  {
   "cell_type": "markdown",
   "metadata": {},
   "source": [
    "![Test](https://docs.google.com/drawings/d/e/2PACX-1vTRbNCR9VjjbUVdLk3QCXDEBdtDp_Ae17t7KxhhMdzSEIK2OvhqD3UKVdx7NZH4P8Msc5OMmzjLJ7xr/pub?w=1101&h=375)"
   ]
  },
  {
   "cell_type": "markdown",
   "metadata": {},
   "source": [
    "And once the player sank all ships, the following pages appear (it changes to the right one after the player clicks)."
   ]
  },
  {
   "cell_type": "markdown",
   "metadata": {},
   "source": [
    "![Test](https://docs.google.com/drawings/d/e/2PACX-1vT_dWN0xHuhc8RPRu_IcuG7nUmxrz31-RHGjvlnV9RHqslGbvntpBpWi9YQ--i3KmwCnY0P2wnCqYUD/pub?w=999&h=511)"
   ]
  }
 ],
 "metadata": {
  "kernelspec": {
   "display_name": "Python 3",
   "language": "python",
   "name": "python3"
  },
  "language_info": {
   "codemirror_mode": {
    "name": "ipython",
    "version": 3
   },
   "file_extension": ".py",
   "mimetype": "text/x-python",
   "name": "python",
   "nbconvert_exporter": "python",
   "pygments_lexer": "ipython3",
   "version": "3.7.6"
  }
 },
 "nbformat": 4,
 "nbformat_minor": 4
}
